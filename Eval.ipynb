{
 "cells": [
  {
   "cell_type": "markdown",
   "metadata": {},
   "source": [
    "# Analyzis of the Kickstarter Dataset\n",
    "This dataset contains 378661 projects that occurred on the Kickstarter crowdfunding platform. There are 2 mains objective attributes for which we can be looking for within the data:\n",
    "\n",
    "* The pledge a project obtains, which is something more interesting to observe from the point of view of Kickstarter itself, since they profit by commission.\n",
    "* The final state of the projects, because a project can either achieve its pledge goal and succeed or it can fail.\n",
    "\n",
    "Our goal with this study is to analyze which are the attributes which influence more both of these objectives. Obtaining a good predicting model would be impossible, given that the biggest key to success at Kickstarter are the introduction videos and the offers, which is information we do not contain in our dataset. Therefore, our main goal is to analyze inference of the attributes on our objectives."
   ]
  },
  {
   "cell_type": "markdown",
   "metadata": {},
   "source": [
    "## Loading the data"
   ]
  },
  {
   "cell_type": "code",
   "execution_count": 15,
   "metadata": {},
   "outputs": [
    {
     "data": {
      "text/html": [
       "<ol class=list-inline>\n",
       "\t<li>378661</li>\n",
       "\t<li>16</li>\n",
       "</ol>\n"
      ],
      "text/latex": [
       "\\begin{enumerate*}\n",
       "\\item 378661\n",
       "\\item 16\n",
       "\\end{enumerate*}\n"
      ],
      "text/markdown": [
       "1. 378661\n",
       "2. 16\n",
       "\n",
       "\n"
      ],
      "text/plain": [
       "[1] 378661     16"
      ]
     },
     "metadata": {},
     "output_type": "display_data"
    }
   ],
   "source": [
    "data <- read.csv(\"datasets/ks-projects-201801_WithOtherActive.csv\",header=T,na.strings=\"?\")\n",
    "dim(data)"
   ]
  },
  {
   "cell_type": "markdown",
   "metadata": {},
   "source": [
    "## Analyzing the existing attributes\n",
    "\n",
    "The `other_active_projects` was created by the team using a Java program. It contains the number of projects that were active at the the of launch of that project. We simply had a hunch it would be relevant"
   ]
  },
  {
   "cell_type": "code",
   "execution_count": 16,
   "metadata": {},
   "outputs": [
    {
     "data": {
      "text/html": [
       "<ol class=list-inline>\n",
       "\t<li>'ID'</li>\n",
       "\t<li>'name'</li>\n",
       "\t<li>'category'</li>\n",
       "\t<li>'main_category'</li>\n",
       "\t<li>'currency'</li>\n",
       "\t<li>'deadline'</li>\n",
       "\t<li>'goal'</li>\n",
       "\t<li>'launched'</li>\n",
       "\t<li>'pledged'</li>\n",
       "\t<li>'state'</li>\n",
       "\t<li>'backers'</li>\n",
       "\t<li>'country'</li>\n",
       "\t<li>'usd_pledged'</li>\n",
       "\t<li>'usd_pledged_real'</li>\n",
       "\t<li>'usd_goal_real'</li>\n",
       "\t<li>'other_active_projects'</li>\n",
       "</ol>\n"
      ],
      "text/latex": [
       "\\begin{enumerate*}\n",
       "\\item 'ID'\n",
       "\\item 'name'\n",
       "\\item 'category'\n",
       "\\item 'main\\_category'\n",
       "\\item 'currency'\n",
       "\\item 'deadline'\n",
       "\\item 'goal'\n",
       "\\item 'launched'\n",
       "\\item 'pledged'\n",
       "\\item 'state'\n",
       "\\item 'backers'\n",
       "\\item 'country'\n",
       "\\item 'usd\\_pledged'\n",
       "\\item 'usd\\_pledged\\_real'\n",
       "\\item 'usd\\_goal\\_real'\n",
       "\\item 'other\\_active\\_projects'\n",
       "\\end{enumerate*}\n"
      ],
      "text/markdown": [
       "1. 'ID'\n",
       "2. 'name'\n",
       "3. 'category'\n",
       "4. 'main_category'\n",
       "5. 'currency'\n",
       "6. 'deadline'\n",
       "7. 'goal'\n",
       "8. 'launched'\n",
       "9. 'pledged'\n",
       "10. 'state'\n",
       "11. 'backers'\n",
       "12. 'country'\n",
       "13. 'usd_pledged'\n",
       "14. 'usd_pledged_real'\n",
       "15. 'usd_goal_real'\n",
       "16. 'other_active_projects'\n",
       "\n",
       "\n"
      ],
      "text/plain": [
       " [1] \"ID\"                    \"name\"                  \"category\"             \n",
       " [4] \"main_category\"         \"currency\"              \"deadline\"             \n",
       " [7] \"goal\"                  \"launched\"              \"pledged\"              \n",
       "[10] \"state\"                 \"backers\"               \"country\"              \n",
       "[13] \"usd_pledged\"           \"usd_pledged_real\"      \"usd_goal_real\"        \n",
       "[16] \"other_active_projects\""
      ]
     },
     "metadata": {},
     "output_type": "display_data"
    }
   ],
   "source": [
    "names(data)"
   ]
  },
  {
   "cell_type": "markdown",
   "metadata": {},
   "source": [
    "## Entry removal\n",
    "\n",
    "Removing attributes which were not finished (at the time of the snapshot) yet or had wierd status."
   ]
  },
  {
   "cell_type": "code",
   "execution_count": 17,
   "metadata": {},
   "outputs": [
    {
     "data": {
      "text/html": [
       "<ol class=list-inline>\n",
       "\t<li>331675</li>\n",
       "\t<li>16</li>\n",
       "</ol>\n"
      ],
      "text/latex": [
       "\\begin{enumerate*}\n",
       "\\item 331675\n",
       "\\item 16\n",
       "\\end{enumerate*}\n"
      ],
      "text/markdown": [
       "1. 331675\n",
       "2. 16\n",
       "\n",
       "\n"
      ],
      "text/plain": [
       "[1] 331675     16"
      ]
     },
     "metadata": {},
     "output_type": "display_data"
    }
   ],
   "source": [
    "data <- data[data$state %in% c(\"successful\", \"failed\"),]\n",
    "dim(data)"
   ]
  },
  {
   "cell_type": "markdown",
   "metadata": {},
   "source": [
    "## Column removal\n",
    "Removing columns which shouldn't be used or do not tend to be useful\n",
    "* `goal` because we have `usd_goal_real` which is all in the same currency.\n",
    "* `pledge` and `usd_pledged` because we have `usd_pledged_real`.\n",
    "* `state` because we don't want it for the `usd_pledged_real` regression and we can recreate it with the simple condition `usd_pledged_real > usd_goal_real`\n",
    "* `backers` because that is part of the final result"
   ]
  },
  {
   "cell_type": "code",
   "execution_count": 18,
   "metadata": {},
   "outputs": [
    {
     "data": {
      "text/html": [
       "<ol class=list-inline>\n",
       "\t<li>'ID'</li>\n",
       "\t<li>'name'</li>\n",
       "\t<li>'category'</li>\n",
       "\t<li>'main_category'</li>\n",
       "\t<li>'currency'</li>\n",
       "\t<li>'deadline'</li>\n",
       "\t<li>'launched'</li>\n",
       "\t<li>'country'</li>\n",
       "\t<li>'usd_pledged_real'</li>\n",
       "\t<li>'usd_goal_real'</li>\n",
       "\t<li>'other_active_projects'</li>\n",
       "</ol>\n"
      ],
      "text/latex": [
       "\\begin{enumerate*}\n",
       "\\item 'ID'\n",
       "\\item 'name'\n",
       "\\item 'category'\n",
       "\\item 'main\\_category'\n",
       "\\item 'currency'\n",
       "\\item 'deadline'\n",
       "\\item 'launched'\n",
       "\\item 'country'\n",
       "\\item 'usd\\_pledged\\_real'\n",
       "\\item 'usd\\_goal\\_real'\n",
       "\\item 'other\\_active\\_projects'\n",
       "\\end{enumerate*}\n"
      ],
      "text/markdown": [
       "1. 'ID'\n",
       "2. 'name'\n",
       "3. 'category'\n",
       "4. 'main_category'\n",
       "5. 'currency'\n",
       "6. 'deadline'\n",
       "7. 'launched'\n",
       "8. 'country'\n",
       "9. 'usd_pledged_real'\n",
       "10. 'usd_goal_real'\n",
       "11. 'other_active_projects'\n",
       "\n",
       "\n"
      ],
      "text/plain": [
       " [1] \"ID\"                    \"name\"                  \"category\"             \n",
       " [4] \"main_category\"         \"currency\"              \"deadline\"             \n",
       " [7] \"launched\"              \"country\"               \"usd_pledged_real\"     \n",
       "[10] \"usd_goal_real\"         \"other_active_projects\""
      ]
     },
     "metadata": {},
     "output_type": "display_data"
    }
   ],
   "source": [
    "projects <- data[,-c(7, 9, 10, 11, 13)]\n",
    "names(projects)"
   ]
  },
  {
   "cell_type": "markdown",
   "metadata": {},
   "source": [
    "### Transforming the factors into strings"
   ]
  },
  {
   "cell_type": "code",
   "execution_count": 19,
   "metadata": {},
   "outputs": [],
   "source": [
    "projects$launched <- as.character(projects$launched)\n",
    "projects$deadline <- as.character(projects$deadline)\n",
    "projects$category <- as.character(projects$category)\n",
    "projects$main_category <- as.character(projects$main_category)\n",
    "projects$country <- as.character(projects$country)\n",
    "projects$currency <- as.character(projects$currency)"
   ]
  },
  {
   "cell_type": "markdown",
   "metadata": {},
   "source": [
    "## Now let's understand the attributes, one by one"
   ]
  },
  {
   "cell_type": "markdown",
   "metadata": {},
   "source": [
    "### ID"
   ]
  },
  {
   "cell_type": "code",
   "execution_count": 20,
   "metadata": {},
   "outputs": [
    {
     "data": {
      "text/html": [
       "331675"
      ],
      "text/latex": [
       "331675"
      ],
      "text/markdown": [
       "331675"
      ],
      "text/plain": [
       "[1] 331675"
      ]
     },
     "metadata": {},
     "output_type": "display_data"
    }
   ],
   "source": [
    "length(unique(projects$ID))"
   ]
  },
  {
   "cell_type": "markdown",
   "metadata": {},
   "source": [
    "Most likely the ID won't be useful in any way."
   ]
  },
  {
   "cell_type": "markdown",
   "metadata": {},
   "source": [
    "## Name"
   ]
  },
  {
   "cell_type": "code",
   "execution_count": 21,
   "metadata": {},
   "outputs": [
    {
     "data": {
      "text/html": [
       "329595"
      ],
      "text/latex": [
       "329595"
      ],
      "text/markdown": [
       "329595"
      ],
      "text/plain": [
       "[1] 329595"
      ]
     },
     "metadata": {},
     "output_type": "display_data"
    }
   ],
   "source": [
    "length(unique(projects$name))"
   ]
  },
  {
   "cell_type": "markdown",
   "metadata": {},
   "source": [
    "Not useful as it is, but has potencial to extract other features, for example, the number of words in it:"
   ]
  },
  {
   "cell_type": "markdown",
   "metadata": {},
   "source": [
    "### wordcount"
   ]
  },
  {
   "cell_type": "code",
   "execution_count": 29,
   "metadata": {},
   "outputs": [
    {
     "data": {
      "text/plain": [
       "   Min. 1st Qu.  Median    Mean 3rd Qu.    Max. \n",
       "  0.000   3.000   5.000   5.653   8.000  27.000 "
      ]
     },
     "metadata": {},
     "output_type": "display_data"
    }
   ],
   "source": [
    "projects$wordcount <- lengths(strsplit(as.character(projects$name), \"\\\\W+\"))\n",
    "summary(projects$wordcount)"
   ]
  },
  {
   "cell_type": "markdown",
   "metadata": {},
   "source": [
    "### Launched & Deadline\n",
    "\n",
    "Sames as with name. Since the time of the year seemed only slightly relevant, we decided to use it:"
   ]
  },
  {
   "cell_type": "markdown",
   "metadata": {},
   "source": [
    "### month"
   ]
  },
  {
   "cell_type": "code",
   "execution_count": 37,
   "metadata": {},
   "outputs": [],
   "source": [
    "projects$month <- substring(projects$launched, 6, 7)"
   ]
  },
  {
   "cell_type": "code",
   "execution_count": 46,
   "metadata": {},
   "outputs": [],
   "source": [
    "projects$success <- projects$usd_pledged_real >= projects$usd_goal_real\n",
    "tmp <- aggregate(success ~ month, data = projects, FUN = mean)"
   ]
  },
  {
   "cell_type": "code",
   "execution_count": 45,
   "metadata": {},
   "outputs": [
    {
     "data": {
      "image/png": "[encoded data removed]",
      "text/plain": [
       "plot without title"
      ]
     },
     "metadata": {},
     "output_type": "display_data"
    }
   ],
   "source": [
    "par(mfrow = c(1,2))\n",
    "boxplot(projects$usd_pledged_real ~ projects$month, outline = F, xlab = \"Month\", ylab = \"Pledge\")\n",
    "barplot(tmp$success, names.arg = 1:12, xlab = \"Month\", ylab = \"Success probability\")"
   ]
  },
  {
   "cell_type": "markdown",
   "metadata": {},
   "source": [
    "Now let's check if the duration of the project can be important\n",
    "\n",
    "### duration"
   ]
  },
  {
   "cell_type": "code",
   "execution_count": 31,
   "metadata": {},
   "outputs": [
    {
     "data": {
      "text/plain": [
       "   Min. 1st Qu.  Median    Mean 3rd Qu.    Max. \n",
       "   1.00   30.00   30.00   33.95   36.00   92.00 "
      ]
     },
     "metadata": {},
     "output_type": "display_data"
    }
   ],
   "source": [
    "projects$duration <- as.numeric(difftime(as.Date(projects[,\"deadline\"]), as.Date(projects[,\"launched\"])))\n",
    "summary(projects$duration)"
   ]
  },
  {
   "cell_type": "code",
   "execution_count": 58,
   "metadata": {},
   "outputs": [
    {
     "data": {
      "image/png": "[encoded data removed]",
      "text/plain": [
       "plot without title"
      ]
     },
     "metadata": {},
     "output_type": "display_data"
    }
   ],
   "source": [
    "tmp <- aggregate(success ~ duration%/% 5, data = projects, FUN = mean)\n",
    "par(mfrow = c(1,2))\n",
    "barplot(tmp$success, names.arg = seq(0,90,5), xlab = \"Duration in days\", ylab = \"Success probability\")\n",
    "tmp <- aggregate(usd_pledged_real ~ duration%/% 5, data = projects, FUN = median)\n",
    "barplot(tmp$usd_pledged_real, names.arg = seq(0,90,5), xlab = \"Duration in days\", ylab = \"Median pledge\")"
   ]
  },
  {
   "cell_type": "markdown",
   "metadata": {},
   "source": [
    "### Category & Main Category"
   ]
  },
  {
   "cell_type": "code",
   "execution_count": 22,
   "metadata": {},
   "outputs": [
    {
     "data": {
      "text/html": [
       "<ol class=list-inline>\n",
       "\t<li>'Publishing'</li>\n",
       "\t<li>'Film &amp; Video'</li>\n",
       "\t<li>'Music'</li>\n",
       "\t<li>'Food'</li>\n",
       "\t<li>'Crafts'</li>\n",
       "\t<li>'Games'</li>\n",
       "\t<li>'Design'</li>\n",
       "\t<li>'Comics'</li>\n",
       "\t<li>'Fashion'</li>\n",
       "\t<li>'Theater'</li>\n",
       "\t<li>'Art'</li>\n",
       "\t<li>'Photography'</li>\n",
       "\t<li>'Technology'</li>\n",
       "\t<li>'Dance'</li>\n",
       "\t<li>'Journalism'</li>\n",
       "</ol>\n"
      ],
      "text/latex": [
       "\\begin{enumerate*}\n",
       "\\item 'Publishing'\n",
       "\\item 'Film \\& Video'\n",
       "\\item 'Music'\n",
       "\\item 'Food'\n",
       "\\item 'Crafts'\n",
       "\\item 'Games'\n",
       "\\item 'Design'\n",
       "\\item 'Comics'\n",
       "\\item 'Fashion'\n",
       "\\item 'Theater'\n",
       "\\item 'Art'\n",
       "\\item 'Photography'\n",
       "\\item 'Technology'\n",
       "\\item 'Dance'\n",
       "\\item 'Journalism'\n",
       "\\end{enumerate*}\n"
      ],
      "text/markdown": [
       "1. 'Publishing'\n",
       "2. 'Film &amp; Video'\n",
       "3. 'Music'\n",
       "4. 'Food'\n",
       "5. 'Crafts'\n",
       "6. 'Games'\n",
       "7. 'Design'\n",
       "8. 'Comics'\n",
       "9. 'Fashion'\n",
       "10. 'Theater'\n",
       "11. 'Art'\n",
       "12. 'Photography'\n",
       "13. 'Technology'\n",
       "14. 'Dance'\n",
       "15. 'Journalism'\n",
       "\n",
       "\n"
      ],
      "text/plain": [
       " [1] \"Publishing\"   \"Film & Video\" \"Music\"        \"Food\"         \"Crafts\"      \n",
       " [6] \"Games\"        \"Design\"       \"Comics\"       \"Fashion\"      \"Theater\"     \n",
       "[11] \"Art\"          \"Photography\"  \"Technology\"   \"Dance\"        \"Journalism\"  "
      ]
     },
     "metadata": {},
     "output_type": "display_data"
    }
   ],
   "source": [
    "unique(projects$main_category)"
   ]
  },
  {
   "cell_type": "markdown",
   "metadata": {},
   "source": [
    "The high number of different values for this nominal attribute might be a problem."
   ]
  },
  {
   "cell_type": "code",
   "execution_count": 23,
   "metadata": {},
   "outputs": [
    {
     "data": {
      "text/html": [
       "159"
      ],
      "text/latex": [
       "159"
      ],
      "text/markdown": [
       "159"
      ],
      "text/plain": [
       "[1] 159"
      ]
     },
     "metadata": {},
     "output_type": "display_data"
    }
   ],
   "source": [
    "length(unique(projects$category))"
   ]
  },
  {
   "cell_type": "markdown",
   "metadata": {},
   "source": [
    "Besides, as we can observe here, there are a few categories that exist in several main categories, which must be handled, otherwise we will have redundat information."
   ]
  },
  {
   "cell_type": "code",
   "execution_count": 24,
   "metadata": {},
   "outputs": [
    {
     "data": {
      "text/html": [
       "<ol class=list-inline>\n",
       "\t<li>170</li>\n",
       "\t<li>2</li>\n",
       "</ol>\n"
      ],
      "text/latex": [
       "\\begin{enumerate*}\n",
       "\\item 170\n",
       "\\item 2\n",
       "\\end{enumerate*}\n"
      ],
      "text/markdown": [
       "1. 170\n",
       "2. 2\n",
       "\n",
       "\n"
      ],
      "text/plain": [
       "[1] 170   2"
      ]
     },
     "metadata": {},
     "output_type": "display_data"
    }
   ],
   "source": [
    "tmp <- unique((projects[,c(\"category\", \"main_category\")]))\n",
    "dim(tmp)"
   ]
  },
  {
   "cell_type": "code",
   "execution_count": 25,
   "metadata": {},
   "outputs": [
    {
     "data": {
      "text/html": [
       "<table>\n",
       "<thead><tr><th></th><th scope=col>category</th><th scope=col>freq</th></tr></thead>\n",
       "<tbody>\n",
       "\t<tr><th scope=row>7</th><td>Anthologies </td><td>2           </td></tr>\n",
       "\t<tr><th scope=row>25</th><td>Comedy      </td><td>4           </td></tr>\n",
       "\t<tr><th scope=row>45</th><td>Events      </td><td>2           </td></tr>\n",
       "\t<tr><th scope=row>46</th><td>Experimental</td><td>2           </td></tr>\n",
       "\t<tr><th scope=row>54</th><td>Festivals   </td><td>2           </td></tr>\n",
       "\t<tr><th scope=row>82</th><td>Letterpress </td><td>2           </td></tr>\n",
       "\t<tr><th scope=row>135</th><td>Spaces      </td><td>3           </td></tr>\n",
       "\t<tr><th scope=row>152</th><td>Web         </td><td>2           </td></tr>\n",
       "</tbody>\n",
       "</table>\n"
      ],
      "text/latex": [
       "\\begin{tabular}{r|ll}\n",
       "  & category & freq\\\\\n",
       "\\hline\n",
       "\t7 & Anthologies  & 2           \\\\\n",
       "\t25 & Comedy       & 4           \\\\\n",
       "\t45 & Events       & 2           \\\\\n",
       "\t46 & Experimental & 2           \\\\\n",
       "\t54 & Festivals    & 2           \\\\\n",
       "\t82 & Letterpress  & 2           \\\\\n",
       "\t135 & Spaces       & 3           \\\\\n",
       "\t152 & Web          & 2           \\\\\n",
       "\\end{tabular}\n"
      ],
      "text/markdown": [
       "\n",
       "| <!--/--> | category | freq |\n",
       "|---|---|---|\n",
       "| 7 | Anthologies  | 2            |\n",
       "| 25 | Comedy       | 4            |\n",
       "| 45 | Events       | 2            |\n",
       "| 46 | Experimental | 2            |\n",
       "| 54 | Festivals    | 2            |\n",
       "| 82 | Letterpress  | 2            |\n",
       "| 135 | Spaces       | 3            |\n",
       "| 152 | Web          | 2            |\n",
       "\n"
      ],
      "text/plain": [
       "    category     freq\n",
       "7   Anthologies  2   \n",
       "25  Comedy       4   \n",
       "45  Events       2   \n",
       "46  Experimental 2   \n",
       "54  Festivals    2   \n",
       "82  Letterpress  2   \n",
       "135 Spaces       3   \n",
       "152 Web          2   "
      ]
     },
     "metadata": {},
     "output_type": "display_data"
    }
   ],
   "source": [
    "library(plyr)\n",
    "c <- count(tmp, 'category')\n",
    "c[c$freq > 1,]"
   ]
  },
  {
   "cell_type": "markdown",
   "metadata": {},
   "source": [
    "### categoryconcat\n",
    "The problems noted before were simple to deal with. We just replaced the Category and the Main Category attributes with one that is the concatenation of both"
   ]
  },
  {
   "cell_type": "code",
   "execution_count": 26,
   "metadata": {},
   "outputs": [
    {
     "data": {
      "text/html": [
       "170"
      ],
      "text/latex": [
       "170"
      ],
      "text/markdown": [
       "170"
      ],
      "text/plain": [
       "[1] 170"
      ]
     },
     "metadata": {},
     "output_type": "display_data"
    }
   ],
   "source": [
    "projects$categoryconcat <- paste(projects$main_category, projects$category, sep = \" - \")\n",
    "projects <- projects[,-c(3,4)]\n",
    "length(unique(projects$categoryconcat))"
   ]
  },
  {
   "cell_type": "code",
   "execution_count": null,
   "metadata": {},
   "outputs": [],
   "source": []
  }
 ],
 "metadata": {
  "kernelspec": {
   "display_name": "R",
   "language": "R",
   "name": "ir"
  },
  "language_info": {
   "codemirror_mode": "r",
   "file_extension": ".r",
   "mimetype": "text/x-r-source",
   "name": "R",
   "pygments_lexer": "r",
   "version": "3.5.1"
  }
 },
 "nbformat": 4,
 "nbformat_minor": 2
}
